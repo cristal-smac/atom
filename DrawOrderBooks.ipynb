{
 "cells": [
  {
   "cell_type": "code",
   "execution_count": 3,
   "metadata": {},
   "outputs": [],
   "source": [
    "from atom import *\n",
    "import numpy as np\n",
    "import random\n",
    "import matplotlib.pyplot as plt\n",
    "plt.rcParams['figure.figsize'] = (15,10)"
   ]
  },
  {
   "cell_type": "markdown",
   "metadata": {},
   "source": [
    "Permet de générer du code tikz qui créé une représentation d'un orderbook à différents instants, en lisant une trace.\n",
    "**Attention à bien printer les orderbooks dans la trace !**"
   ]
  },
  {
   "cell_type": "code",
   "execution_count": 4,
   "metadata": {},
   "outputs": [
    {
     "name": "stdout",
     "output_type": "stream",
     "text": [
      "\\begin{tikzpicture}\n",
      "\\node [right] at (0,0) {\\small ASKS};\n",
      "\\node [left] at (3,0) {\\small BIDS};\n",
      "\\draw [thick] (1,3) --(3,3);\n",
      "\\node [above left] at (3,3) {\\small $p_3$};\n",
      "\\node [below left] at (3,3) {\\small x6};\n",
      "\\node [right] at (3,3) {\\small $A_3$};\n",
      "\\end{tikzpicture}\n",
      "\\begin{tikzpicture}\n",
      "\\node [right] at (0,0) {\\small ASKS};\n",
      "\\node [left] at (3,0) {\\small BIDS};\n",
      "\\draw [thick] (0,1) --(2,1);\n",
      "\\node [above right] at (0,1) {\\small $p_2$};\n",
      "\\node [below right] at (0,1) {\\small x4};\n",
      "\\node [left] at (0,1) {\\small $A_2$};\n",
      "\\draw [thick] (1,3) --(3,3);\n",
      "\\node [above left] at (3,3) {\\small $p_3$};\n",
      "\\node [below left] at (3,3) {\\small x6};\n",
      "\\node [right] at (3,3) {\\small $A_3$};\n",
      "\\end{tikzpicture}\n",
      "\\begin{tikzpicture}\n",
      "\\node [right] at (0,0) {\\small ASKS};\n",
      "\\node [left] at (3,0) {\\small BIDS};\n",
      "\\draw [thick] (1,3) --(3,3);\n",
      "\\node [above left] at (3,3) {\\small $p_3$};\n",
      "\\node [below left] at (3,3) {\\small x2};\n",
      "\\node [right] at (3,3) {\\small $A_3$};\n",
      "\\end{tikzpicture}\n",
      "\\begin{tikzpicture}\n",
      "\\node [right] at (0,0) {\\small ASKS};\n",
      "\\node [left] at (3,0) {\\small BIDS};\n",
      "\\draw [thick] (0,2) --(2,2);\n",
      "\\node [above right] at (0,2) {\\small $p_1$};\n",
      "\\node [below right] at (0,2) {\\small x3};\n",
      "\\node [left] at (0,2) {\\small $A_1$};\n",
      "\\draw [thick] (1,3) --(3,3);\n",
      "\\node [above left] at (3,3) {\\small $p_3$};\n",
      "\\node [below left] at (3,3) {\\small x2};\n",
      "\\node [right] at (3,3) {\\small $A_3$};\n",
      "\\end{tikzpicture}\n",
      "\\begin{tikzpicture}\n",
      "\\node [right] at (0,0) {\\small ASKS};\n",
      "\\node [left] at (3,0) {\\small BIDS};\n",
      "\\draw [thick] (0,2) --(2,2);\n",
      "\\node [above right] at (0,2) {\\small $p_1$};\n",
      "\\node [below right] at (0,2) {\\small x1};\n",
      "\\node [left] at (0,2) {\\small $A_1$};\n",
      "\\end{tikzpicture}\n"
     ]
    }
   ],
   "source": [
    "Prices = []\n",
    "Agents = []\n",
    "filename = \"trace(3, 2, 1).dat\"\n",
    "with open(filename, 'r') as file:\n",
    "    for line in file:\n",
    "        l = line.split(';')\n",
    "        if l[0] == \"LimitOrder\":\n",
    "            Prices.append(int(l[4]))\n",
    "            Agents.append(int(l[2][10:]))\n",
    "Prices.sort()\n",
    "m = min(Agents)-1\n",
    "with open(filename, 'r') as file:\n",
    "    reading_orderbook = False\n",
    "    for line in file:\n",
    "        if \"OrderBook\" in line:\n",
    "            print(\"\\\\begin{tikzpicture}\")\n",
    "            print(\"\\\\node [right] at (0,0) {\\small ASKS};\")\n",
    "            print(\"\\\\node [left] at (3,0) {\\small BIDS};\")\n",
    "            reading_orderbook = True\n",
    "        elif reading_orderbook and (not \"Asks:\" in line) and (not \"Bids:\" in line) and (not \"\\t\" in line):\n",
    "            reading_orderbook = False            \n",
    "            print(\"\\\\end{tikzpicture}\")\n",
    "        l = line.split(';')\n",
    "        if reading_orderbook and l[0] == \"\\tLimitOrder\":\n",
    "            d = l[3] ; p = int(l[4]) ; q = int(l[5]) ; a = int(l[2][10:]) - m\n",
    "            x0 = 0 if d == 'ASK' else 1\n",
    "            y0 = 1 + Prices.index(p)\n",
    "            if d == \"ASK\":\n",
    "                print(\"\\\\draw [thick] (\"+str(x0)+\",\"+str(y0)+\") --(\"+str(2+x0)+\",\"+str(y0)+\");\")\n",
    "                print(\"\\\\node [above right] at (0,\"+str(y0)+\") {\\small $p_\"+str(a)+\"$};\")\n",
    "                print(\"\\\\node [below right] at (0,\"+str(y0)+\") {\\small x\"+str(q)+\"};\")\n",
    "                print(\"\\\\node [left] at (0,\"+str(y0)+\") {\\small $A_\"+str(a)+\"$};\")\n",
    "            else:\n",
    "                print(\"\\\\draw [thick] (\"+str(x0)+\",\"+str(y0)+\") --(\"+str(2+x0)+\",\"+str(y0)+\");\")\n",
    "                print(\"\\\\node [above left] at (3,\"+str(y0)+\") {\\small $p_\"+str(a)+\"$};\")\n",
    "                print(\"\\\\node [below left] at (3,\"+str(y0)+\") {\\small x\"+str(q)+\"};\")\n",
    "                print(\"\\\\node [right] at (3,\"+str(y0)+\") {\\small $A_\"+str(a)+\"$};\")"
   ]
  },
  {
   "cell_type": "code",
   "execution_count": null,
   "metadata": {},
   "outputs": [],
   "source": []
  }
 ],
 "metadata": {
  "kernelspec": {
   "display_name": "Python 3",
   "language": "python",
   "name": "python3"
  },
  "language_info": {
   "codemirror_mode": {
    "name": "ipython",
    "version": 3
   },
   "file_extension": ".py",
   "mimetype": "text/x-python",
   "name": "python",
   "nbconvert_exporter": "python",
   "pygments_lexer": "ipython3",
   "version": "3.6.5"
  }
 },
 "nbformat": 4,
 "nbformat_minor": 2
}
