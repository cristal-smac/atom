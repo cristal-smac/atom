{
 "cells": [
  {
   "cell_type": "markdown",
   "metadata": {},
   "source": [
    "# Exécution optimale d'une série d'ordres"
   ]
  },
  {
   "cell_type": "markdown",
   "metadata": {},
   "source": [
    "On se donne un welfare (ex : utilitaire, min, max, Nash, etc.) définit sur $\\cup_n\\mathbb{R}^n$ à valeurs dans $\\mathbb{R}$.\n",
    "On peut montrer que, s'il existe un ordre total $\\preceq$ (pour ce welfare) sur l'ensemble des limit orders possibles, alors si $o_a$ est un ordre ask à un prix $p_a$ et $o_b$ est un ordre bid à un prix $p_b$, alors si $p_a < p_b$, on a $o_b \\preceq o_a$. Pour montrer que $\\preceq$ n'existe pas pour ce welfare donné, il suffit donc d'exhiber une séquence d'ordres $(o_1, ..., o_m)$ telle qu'il existe $1\\leq i\\neq j\\leq m$ avec $o_i$ un ordre ask, $o_j$ un ordre bid avec $p_i < p_j$ et pour toutes les permutations $(o_{\\sigma(1)}, ...o_{\\sigma(m)})$ maximisant le welfare $w(o_{\\sigma(1)}, ..., o_{\\sigma(m)})$ sont telles que $\\sigma^{-1}(i) < \\sigma^{-1}(j)$ : dans toutes les permutations de la séquence qui maximisent le welfare, l'ordre ask $o_i$ est avant l'ordre bid $o_j$."
   ]
  },
  {
   "cell_type": "code",
   "execution_count": 10,
   "metadata": {},
   "outputs": [],
   "source": [
    "from atom import *\n",
    "import numpy as np\n",
    "import random as rd\n",
    "import matplotlib.pyplot as plt\n",
    "import itertools as it\n",
    "plt.rcParams['figure.figsize'] = (15,10)\n",
    "\n",
    "class AutomatonNoPop(Trader):\n",
    "    def __init__(self, market, initial_assets=None, cash=0, orders_list=[]):\n",
    "        '''order_list est une liste de la forme (asset,direction,price,qty)'''\n",
    "        Trader.__init__(self, market, initial_assets, cash)\n",
    "        self.orders_list = orders_list\n",
    "    def __str__(self):\n",
    "        return \"Automaton \"+ super().__str__()\n",
    "    def decide_order(self, market, asset):\n",
    "        if self.orders_list == []:\n",
    "            return None\n",
    "        else:\n",
    "            a, d, p, q = self.orders_list[0]\n",
    "            return LimitOrder(a, self, d, p, q)\n",
    "\n",
    "class Automaton(Trader):\n",
    "    def __init__(self, market, initial_assets=None, cash=0, orders_list=[]):\n",
    "        '''order_list est une liste de la forme (asset,direction,price,qty)'''\n",
    "        Trader.__init__(self, market, initial_assets, cash)\n",
    "        self.orders_list = orders_list\n",
    "    def __str__(self):\n",
    "        return \"Automaton \"+ super().__str__()\n",
    "    def decide_order(self, market, asset):\n",
    "        if self.orders_list == []:\n",
    "            return None\n",
    "        else:\n",
    "            a, d, p, q = self.orders_list.pop()\n",
    "            return LimitOrder(a, self, d, p, q)\n",
    "\n",
    "def apply_perm_to_lst(l1, l2):\n",
    "    # l1 = permutation de [[1,n]] avec n = len(l2)\n",
    "    return [l2[l1[i]-1] for i in range(len(l2))]\n",
    "\n",
    "#print(apply_perm_to_lst([3,2,1], ['a','b','c']))"
   ]
  },
  {
   "cell_type": "markdown",
   "metadata": {},
   "source": [
    "## Calcul des meilleures séquences\n",
    "\n",
    "### Séquences ne respectant pas $\\preceq$ pour $W_\\min$ et $W_N$"
   ]
  },
  {
   "cell_type": "code",
   "execution_count": 12,
   "metadata": {
    "scrolled": true
   },
   "outputs": [
    {
     "name": "stdout",
     "output_type": "stream",
     "text": [
      "(1, 2, 3) [26784, 80108, 20514] 20514\n",
      "(1, 3, 2) [30849, 52174, 178528] 30849\n",
      "(2, 1, 3) [80108, 26784, 20514] 20514\n",
      "(2, 3, 1) [161408, 57099, 43044] 43044\n",
      "(3, 1, 2) [39979, 43044, 178528] 39979\n",
      "(3, 2, 1) [39979, 178528, 43044] 39979\n",
      "\n",
      " [(2, 3, 1)]\n"
     ]
    }
   ],
   "source": [
    "lst_best = []\n",
    "best_wealth = 0\n",
    "perm_list = it.permutations([1,2,3])\n",
    "\n",
    "# ATTENTION :\n",
    "# Ne pas définir les traders avant la boucle puis faire une perm des traders,\n",
    "# sinon à la fin de la première étape de la boucle, même si le marché est réinitialisé, l'agent ne le sera pas\n",
    "# et son cash initial à l'étape 2 sera son cash final de l'étape 1...\n",
    "\n",
    "p1 = 1463; p2 = 1248; p3 = 5528\n",
    "q1 = 3; q2 = 4; q3 = 6\n",
    "c1 = 20932; c2 = 45856; c3 = 12339\n",
    "n1 = 4; n2 = 24; n3 = 5\n",
    "\n",
    "for p in perm_list:\n",
    "    file = open('trace'+str(p)+'.dat', 'w')\n",
    "    m = Market(['asset'], out=file, trace='all')\n",
    "    t1 = Automaton(m, [n1], c1, [('asset', 'ASK', p1, q1)])\n",
    "    t2 = Automaton(m, [n2], c2, [('asset', 'ASK', p2, q2)])\n",
    "    t3 = Automaton(m, [n3], c3, [('asset', 'BID', p3, q3)])\n",
    "    p_t = apply_perm_to_lst(p, [t1,t2,t3])\n",
    "    for t in p_t:\n",
    "        m.add_trader(t)\n",
    "    m.run_once(shuffle=False)\n",
    "    # C'est ici qu'on définit le welfare !\n",
    "    # min ou np.prod\n",
    "    w = min([t.get_wealth(m) for t in m.traders])\n",
    "    print(p, [t.get_wealth(m) for t in m.traders], w)\n",
    "    if w > best_wealth:\n",
    "        lst_best = [p]\n",
    "        best_wealth = w\n",
    "    elif w == best_wealth:\n",
    "        lst_best.append(p)\n",
    "    file.close()\n",
    "print(\"\\n\", lst_best)"
   ]
  },
  {
   "cell_type": "markdown",
   "metadata": {},
   "source": [
    "### Séquences ne respectant pas $\\preceq$ pour $W_\\max$"
   ]
  },
  {
   "cell_type": "code",
   "execution_count": 13,
   "metadata": {},
   "outputs": [
    {
     "name": "stdout",
     "output_type": "stream",
     "text": [
      "(1, 2, 3) [34522, 29999, 56811] 56811\n",
      "(1, 3, 2) [45146, 82797, 45689] 82797\n",
      "(2, 1, 3) [29999, 34522, 56811] 56811\n",
      "(2, 3, 1) [29999, 56811, 34522] 56811\n",
      "(3, 1, 2) [81915, 46028, 45689] 81915\n",
      "(3, 2, 1) [81915, 45689, 46028] 81915\n",
      "\n",
      " [(1, 3, 2)]\n"
     ]
    }
   ],
   "source": [
    "lst_best = []\n",
    "best_wealth = 0\n",
    "perm_list = it.permutations([1,2,3])\n",
    "\n",
    "# ATTENTION :\n",
    "# Ne pas définir les traders avant la boucle puis faire une perm des traders,\n",
    "# sinon à la fin de la première étape de la boucle, même si le marché est réinitialisé, l'agent ne le sera pas\n",
    "# et son cash initial à l'étape 2 sera son cash final de l'étape 1...\n",
    "\n",
    "p1 = 1166; p2 = 1002; p3 = 2048\n",
    "q1 = 1; q2 = 13; q3 = 11\n",
    "c1 = 23500; c2 = 14969; c3 = 32763\n",
    "n1 = 11; n2 = 15; n3 = 24\n",
    "\n",
    "for p in perm_list:\n",
    "    file = open('trace'+str(p)+'.dat', 'w')\n",
    "    m = Market(['asset'], out=file, trace='all')\n",
    "    t1 = AutomatonNoPop(m, [n1], c1, [('asset', 'ASK', p1, q1)])\n",
    "    t2 = AutomatonNoPop(m, [n2], c2, [('asset', 'ASK', p2, q2)])\n",
    "    t3 = AutomatonNoPop(m, [n3], c3, [('asset', 'BID', p3, q3)])\n",
    "    p_t = apply_perm_to_lst(p, [t1,t2,t3])\n",
    "    for t in p_t:\n",
    "        m.add_trader(t)\n",
    "    m.run_once(shuffle=False)\n",
    "    w = max([t.get_wealth(m) for t in m.traders])\n",
    "    print(p, [t.get_wealth(m) for t in m.traders], w)\n",
    "    if w > best_wealth:\n",
    "        lst_best = [p]\n",
    "        best_wealth = w\n",
    "    elif w == best_wealth:\n",
    "        lst_best.append(p)\n",
    "    file.close()\n",
    "print(\"\\n\", lst_best)"
   ]
  },
  {
   "cell_type": "markdown",
   "metadata": {},
   "source": [
    "### Séquences ne respectant pas $\\preceq$ pour $W_u$"
   ]
  },
  {
   "cell_type": "code",
   "execution_count": 16,
   "metadata": {},
   "outputs": [
    {
     "name": "stdout",
     "output_type": "stream",
     "text": [
      "(1, 2, 3, 4) [167233, 97827, 105334, 147552] 517946\n",
      "(1, 2, 4, 3) [167233, 97827, 147552, 105334] 517946\n",
      "(1, 3, 2, 4) [167233, 105334, 97827, 147552] 517946\n",
      "(1, 3, 4, 2) [167233, 105334, 147552, 97827] 517946\n",
      "(1, 4, 2, 3) [167233, 147552, 97827, 105334] 517946\n",
      "(1, 4, 3, 2) [167233, 147552, 105334, 97827] 517946\n",
      "(2, 1, 3, 4) [97827, 167233, 105334, 147552] 517946\n",
      "(2, 1, 4, 3) [97827, 167233, 147552, 105334] 517946\n",
      "(2, 3, 1, 4) [105017, 98144, 167233, 147552] 517946\n",
      "(2, 3, 4, 1) [132041, 147688, 192592, 228037] 700358\n",
      "(2, 4, 1, 3) [99265, 146114, 167233, 105334] 517946\n",
      "(2, 4, 3, 1) [141533, 210017, 163485, 249394] 764429\n",
      "(3, 1, 2, 4) [90119, 182448, 97827, 147552] 517946\n",
      "(3, 1, 4, 2) [90119, 182448, 147552, 97827] 517946\n",
      "(3, 2, 1, 4) [90119, 113042, 167233, 147552] 517946\n",
      "(3, 2, 4, 1) [139663, 140066, 192592, 228037] 700358\n",
      "(3, 4, 1, 2) [139663, 192592, 231992, 136111] 700358\n",
      "(3, 4, 2, 1) [139663, 192592, 140066, 228037] 700358\n",
      "(4, 1, 2, 3) [145300, 169485, 97827, 105334] 517946\n",
      "(4, 1, 3, 2) [145300, 169485, 105334, 97827] 517946\n",
      "(4, 2, 1, 3) [145300, 100079, 167233, 105334] 517946\n",
      "(4, 2, 3, 1) [209203, 142347, 163485, 249394] 764429\n",
      "(4, 3, 1, 2) [192592, 139663, 231992, 136111] 700358\n",
      "(4, 3, 2, 1) [192592, 139663, 140066, 228037] 700358\n",
      "\n",
      " [(2, 4, 3, 1), (4, 2, 3, 1)]\n"
     ]
    }
   ],
   "source": [
    "lst_best = []\n",
    "best_wealth = 0\n",
    "perm_list = it.permutations([1,2,3,4])\n",
    "\n",
    "# ATTENTION :\n",
    "# Ne pas définir les traders avant la boucle puis faire une perm des traders,\n",
    "# sinon à la fin de la première étape de la boucle, même si le marché est réinitialisé, l'agent ne le sera pas\n",
    "# et son cash initial à l'étape 2 sera son cash final de l'étape 1...\n",
    "\n",
    "p1 =  5060  ; q1 =  13  ; c1 =  30613  ; n1 =  27 \n",
    "p2 =  6498  ; q2 =  5  ; c2 =  11807  ; n2 =  17 \n",
    "p3 =  8103  ; q3 =  5  ; c3 =  19314  ; n3 =  17 \n",
    "p4 =  7312  ; q4 =  1  ; c4 =  46352  ; n4 =  20\n",
    "\n",
    "for p in perm_list:\n",
    "    file = open('trace'+str(p)+'.dat', 'w')\n",
    "    m = Market(['asset'], out=file, trace='all')\n",
    "    t1 = AutomatonNoPop(m, [n1], c1, [('asset', 'ASK', p1, q1)])\n",
    "    t2 = AutomatonNoPop(m, [n2], c2, [('asset', 'ASK', p2, q2)])\n",
    "    t3 = AutomatonNoPop(m, [n3], c3, [('asset', 'BID', p3, q3)])\n",
    "    t4 = AutomatonNoPop(m, [n4], c4, [('asset', 'BID', p4, q4)])\n",
    "    p_t = apply_perm_to_lst(p, [t1,t2,t3,t4])\n",
    "    for t in p_t:\n",
    "        m.add_trader(t)\n",
    "    m.run_once(shuffle=False)\n",
    "    w = sum([t.get_wealth(m) for t in m.traders])\n",
    "    print(p, [t.get_wealth(m) for t in m.traders], w)\n",
    "    if w > best_wealth:\n",
    "        lst_best = [p]\n",
    "        best_wealth = w\n",
    "    elif w == best_wealth:\n",
    "        lst_best.append(p)\n",
    "    file.close()\n",
    "print(\"\\n\", lst_best)"
   ]
  },
  {
   "cell_type": "markdown",
   "metadata": {},
   "source": [
    "### Séquences ne respectant pas $\\preceq$ pour $W_\\text{Lm}$"
   ]
  },
  {
   "cell_type": "code",
   "execution_count": 17,
   "metadata": {},
   "outputs": [],
   "source": [
    "def leximin(x, y):\n",
    "    n = len(x)\n",
    "    x_cp = x[:]; y_cp = y[:]\n",
    "    x_cp.sort()\n",
    "    y_cp.sort()\n",
    "    k = 0\n",
    "    while k < n and x_cp[k] == y_cp[k]:\n",
    "        k += 1\n",
    "    if k == n:\n",
    "        return [x, y]\n",
    "    elif x_cp[k] < y_cp[k]:\n",
    "        return [y]\n",
    "    else:\n",
    "        return [x]\n",
    "\n",
    "# leximin([0,1],[1,0])\n",
    "# leximin([.5,1],[1.5,0])\n",
    "\n",
    "def leximin_lst(l):\n",
    "    lst_max = [l[0][:]]\n",
    "    max = l[0][:]\n",
    "    for i in range(1,len(l)):\n",
    "        if leximin(max, l[i][:]) == [l[i][:]]:\n",
    "            lst_max = [l[i][:]]\n",
    "            max = l[i][:]\n",
    "        elif leximin(max, l[i][:]) == [max, l[i][:]]:\n",
    "            lst_max.append(l[i][:])\n",
    "    return lst_max\n",
    "\n",
    "# l1 = [.5,1] ; l2 = [1,.7] ; l3 = [1.5,0] ; l4 = [.7,1]\n",
    "# leximin_lst([l1,l2,l3,l4])"
   ]
  },
  {
   "cell_type": "code",
   "execution_count": 19,
   "metadata": {},
   "outputs": [
    {
     "name": "stdout",
     "output_type": "stream",
     "text": [
      "(1, 2, 3) [26784, 80108, 20514]\n",
      "(1, 3, 2) [30849, 52174, 178528]\n",
      "(2, 1, 3) [80108, 26784, 20514]\n",
      "(2, 3, 1) [161408, 57099, 43044]\n",
      "(3, 1, 2) [39979, 43044, 178528]\n",
      "(3, 2, 1) [39979, 178528, 43044]\n",
      "[[161408, 57099, 43044]]\n"
     ]
    }
   ],
   "source": [
    "perm_list = it.permutations([1,2,3])\n",
    "\n",
    "# ATTENTION :\n",
    "# Ne pas définir les traders avant la boucle puis faire une perm des traders,\n",
    "# sinon à la fin de la première étape de la boucle, même si le marché est réinitialisé, \n",
    "# l'agent ne le sera pas et son cash initial à l'étape 2 sera son cash final de l'étape 1...\n",
    "\n",
    "p1 = 1463; p2 = 1248; p3 = 5528\n",
    "q1 = 3; q2 = 4; q3 = 6\n",
    "c1 = 20932; c2 = 45856; c3 = 12339\n",
    "n1 = 4; n2 = 24; n3 = 5\n",
    "welfares = dict()\n",
    "\n",
    "for p in perm_list:\n",
    "    file = open('trace'+str(p)+'.dat', 'w')\n",
    "    m = Market(['asset'], out=file, trace='all')\n",
    "    t1 = AutomatonNoPop(m, [n1], c1, [('asset', 'ASK', p1, q1)])\n",
    "    t2 = AutomatonNoPop(m, [n2], c2, [('asset', 'ASK', p2, q2)])\n",
    "    t3 = AutomatonNoPop(m, [n3], c3, [('asset', 'BID', p3, q3)])\n",
    "    p_t = apply_perm_to_lst(p, [t1,t2,t3])\n",
    "    for t in p_t:\n",
    "        m.add_trader(t)\n",
    "    m.run_once(shuffle=False)\n",
    "    welfares[p] = [t.get_wealth(m) for t in m.traders]\n",
    "    print(p, welfares[p])\n",
    "    file.close()\n",
    "lst_max = leximin_lst(list(welfares.values()))\n",
    "print(lst_max)\n",
    "# print([p for p in perm_list if welfares[p] in lst_max])"
   ]
  },
  {
   "cell_type": "markdown",
   "metadata": {},
   "source": [
    "## Trouver des séquences ne respectant pas $\\preceq$"
   ]
  },
  {
   "cell_type": "code",
   "execution_count": 24,
   "metadata": {},
   "outputs": [
    {
     "name": "stdout",
     "output_type": "stream",
     "text": [
      "[(1, 3, 4, 2), (2, 3, 4, 1), (3, 1, 4, 2), (3, 2, 4, 1)]\n",
      "p1 =  1696  ; q1 =  8  ; c1 =  33734  ; n1 =  13 \n",
      "p2 =  1569  ; q2 =  6  ; c2 =  13539  ; n2 =  13 \n",
      "p3 =  2624  ; q3 =  14  ; c3 =  24887  ; n3 =  19 \n",
      "p4 =  8321  ; q4 =  10  ; c4 =  21879  ; n4 =  8\n"
     ]
    }
   ],
   "source": [
    "file = open('/dev/null', 'w')\n",
    "\n",
    "for nb in range(100000):\n",
    "    p3 = rd.randint(1500,9999)\n",
    "    p4 = rd.randint(1500,9999)\n",
    "    #p1 = rd.randint(1000, p3-1)\n",
    "    #p2 = rd.randint(1000, p3-1)\n",
    "    p1 = rd.randint(1000, min(p3, p4)-1)\n",
    "    p2 = rd.randint(1000, min(p3, p4)-1)\n",
    "    n1 = rd.randint(1,30)\n",
    "    n2 = rd.randint(1,30)\n",
    "    n3 = rd.randint(0,30)\n",
    "    n4 = rd.randint(0,30)\n",
    "    q1 = rd.randint(1,n1)\n",
    "    q2 = rd.randint(1,n2)\n",
    "    q3 = rd.randint(1,q1+q2)\n",
    "    q4 = rd.randint(1,q1+q2)\n",
    "    c1 = rd.randint(10000,50000)\n",
    "    c2 = rd.randint(10000,50000)\n",
    "    c3 = rd.randint(10000,50000)\n",
    "    c4 = rd.randint(10000,50000)\n",
    "    # Calcul\n",
    "    lst_best = []\n",
    "    best_wealth = 0\n",
    "    #perm_list = it.permutations([1,2,3])\n",
    "    perm_list = it.permutations([1,2,3,4])\n",
    "    for p in perm_list:\n",
    "        m = Market(['asset'], out=file)\n",
    "        t1 = AutomatonNoPop(m, [n1], c1, [('asset', 'ASK', p1, q1)])\n",
    "        t2 = AutomatonNoPop(m, [n2], c2, [('asset', 'ASK', p2, q2)])\n",
    "        t3 = AutomatonNoPop(m, [n3], c3, [('asset', 'BID', p3, q3)])\n",
    "        t4 = AutomatonNoPop(m, [n4], c4, [('asset', 'BID', p4, q4)])\n",
    "        #p_t = apply_perm_to_lst(p, [t1,t2,t3])\n",
    "        p_t = apply_perm_to_lst(p, [t1,t2,t3,t4])\n",
    "        for t in p_t:\n",
    "            m.add_trader(t)\n",
    "        m.run_once(shuffle=False)\n",
    "        # Welfare\n",
    "        # C'est ici qu'il faut choisir quelle fonction d'utilité on prend !\n",
    "        w = sum([t.get_wealth(m) for t in m.traders])\n",
    "        if w > best_wealth:\n",
    "            lst_best = [p]\n",
    "            best_wealth = w\n",
    "        elif w == best_wealth:\n",
    "            lst_best.append(p)\n",
    "    i = 0\n",
    "    n = len(lst_best)\n",
    "    #while i < n and lst_best[i][0] != 3:\n",
    "    while i < n and (lst_best[i][0], lst_best[i][1]) not in [(3,4),(4,3)]:\n",
    "        i += 1\n",
    "    if i == n:\n",
    "        print(lst_best)\n",
    "        #print(\"p1 = \", p1, \" ; q1 = \", q1, \" ; c1 = \", c1, \" ; n1 = \", n1, \"\\np2 = \", p2, \" ; q2 = \", q2, \" ; c2 = \", c2, \" ; n2 = \", n2, \"\\np3 = \", p3, \" ; q3 = \", q3, \" ; c3 = \", c3, \" ; n3 = \", n3)\n",
    "        print(\"p1 = \", p1, \" ; q1 = \", q1, \" ; c1 = \", c1, \" ; n1 = \", n1, \"\\np2 = \", p2, \" ; q2 = \", q2, \" ; c2 = \", c2, \" ; n2 = \", n2, \"\\np3 = \", p3, \" ; q3 = \", q3, \" ; c3 = \", c3, \" ; n3 = \", n3, \"\\np4 = \", p4, \" ; q4 = \", q4, \" ; c4 = \", c4, \" ; n4 = \", n4)\n",
    "        break\n",
    "\n",
    "file.close()"
   ]
  }
 ],
 "metadata": {
  "kernelspec": {
   "display_name": "Python 3",
   "language": "python",
   "name": "python3"
  },
  "language_info": {
   "codemirror_mode": {
    "name": "ipython",
    "version": 3
   },
   "file_extension": ".py",
   "mimetype": "text/x-python",
   "name": "python",
   "nbconvert_exporter": "python",
   "pygments_lexer": "ipython3",
   "version": "3.6.5"
  }
 },
 "nbformat": 4,
 "nbformat_minor": 2
}
