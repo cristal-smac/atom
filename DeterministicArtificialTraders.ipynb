{
 "cells": [
  {
   "cell_type": "markdown",
   "metadata": {},
   "source": [
    "# Deterministic Artificial Traders"
   ]
  },
  {
   "cell_type": "code",
   "execution_count": 1,
   "metadata": {},
   "outputs": [],
   "source": [
    "from atom import *\n",
    "from math import sqrt\n",
    "import numpy as np\n",
    "from numpy import linspace, log\n",
    "from numpy.random import normal, laplace, randint, uniform\n",
    "import data_processing as dp\n",
    "import matplotlib.pyplot as plt\n",
    "from numpy import mean\n",
    "from mpl_toolkits.mplot3d import Axes3D\n",
    "plt.rcParams['figure.figsize'] = (15,10)"
   ]
  },
  {
   "cell_type": "markdown",
   "metadata": {},
   "source": [
    "## DAT Fundamentalist (DAT-F)"
   ]
  },
  {
   "cell_type": "code",
   "execution_count": 2,
   "metadata": {},
   "outputs": [],
   "source": [
    "class DAT_F(Trader):\n",
    "\tdef __init__(self, market, aggressiveness, self_confidence, fv, initial_assets=None, cash=0):\n",
    "\t\tTrader.__init__(self, market, initial_assets, cash)\n",
    "\t\tself.alpha = aggressiveness\n",
    "\t\tself.kappa = self_confidence\n",
    "\t\tself.fv = fv\n",
    "\tdef __str__(self):\n",
    "\t\treturn \"DAT-F %i\" % self.trader_id\n",
    "\tdef decide_order(self, market, asset):\n",
    "\t\tp = market.prices[asset]\n",
    "\t\tm = self.fv\n",
    "\t\tbest_ask = market.orderbooks[asset].asks.root().price if market.orderbooks[asset].asks.size > 0 else None\n",
    "\t\tbest_bid = market.orderbooks[asset].bids.root().price if market.orderbooks[asset].bids.size > 0 else None\n",
    "\t\tif best_ask != None and best_ask <= m:\n",
    "\t\t\tfund_dir = 'BID' ; fund_price = best_ask\n",
    "\t\telif best_bid != None and best_bid >= m:\n",
    "\t\t\tfund_dir = 'ASK' ; fund_price = best_bid\n",
    "\t\telse:\n",
    "\t\t\tbest_ask = best_ask if best_ask != None else p\n",
    "\t\t\tbest_bid = best_bid if best_bid != None else p\n",
    "\t\t\tif m-best_bid > best_ask-m:\n",
    "\t\t\t\tfund_dir = 'BID'\n",
    "\t\t\t\tfund_price = int(round(best_bid + self.alpha*(m-best_bid)))\n",
    "\t\t\telif m-best_bid < best_ask-m:\n",
    "\t\t\t\tfund_dir = 'ASK'\n",
    "\t\t\t\tfund_price = int(round(best_ask + self.alpha*(m-best_ask)))\n",
    "\t\t\telse:\n",
    "\t\t\t\tfund_dir = None ; fund_price = None\n",
    "\t\treturn None if fund_dir == None else LimitOrder(asset, self, fund_dir, fund_price, self.kappa)"
   ]
  },
  {
   "cell_type": "markdown",
   "metadata": {},
   "source": [
    "Un `DAT-F` a comme attribut --- en plus des attributs habituels d'un agent atom --- une aggressivité $\\alpha$, un confiance en soi $\\kappa$ et une estimation $\\pi$ de la valeur fondamentale."
   ]
  },
  {
   "cell_type": "code",
   "execution_count": 3,
   "metadata": {},
   "outputs": [],
   "source": [
    "file = open('trace.dat', 'w')\n",
    "\n",
    "# On créé un marché avec un unique titre, qui n'écrit que les prix fixés dans la trace,\n",
    "# dont le prix d'ouverture est 21000 et qui fait du long-fixing\n",
    "opening_price = 21000\n",
    "m = Market(['VAASM'], out=file, trace=['price'], init_price=opening_price, fix='L')\n",
    "\n",
    "#On créé les agents\n",
    "for a in linspace(0, 1, 6):\n",
    "    for fv in range(415, 425):\n",
    "        for k in range(1, 11):\n",
    "            t = DAT_F(m, a, k, 50*fv, [1000000//opening_price], 1000000)\n",
    "            t.init_wealth = t.get_wealth(m) # On stocke le wealth initial de l'agent\n",
    "            m.add_trader(t) # On l'ajoute au marché\n",
    "            \n",
    "for _ in range(10):\n",
    "    m.run_once()\n",
    "\n",
    "file.close()"
   ]
  },
  {
   "cell_type": "code",
   "execution_count": 4,
   "metadata": {},
   "outputs": [
    {
     "data": {
      "image/png": "[encoded data removed]",
      "text/plain": [
       "<Figure size 432x288 with 1 Axes>"
      ]
     },
     "metadata": {
      "needs_background": "light"
     },
     "output_type": "display_data"
    }
   ],
   "source": [
    "P = dp.extract_prices('trace.dat')['VAASM']\n",
    "plt.plot(P[1][:1000], 'k-')\n",
    "plt.ylabel('Prices')\n",
    "plt.title('Sequence of the first thousand prices')\n",
    "plt.show()"
   ]
  },
  {
   "cell_type": "markdown",
   "metadata": {},
   "source": [
    "## DAT Informed Fundamentalist (DAT-IF)"
   ]
  },
  {
   "cell_type": "code",
   "execution_count": 5,
   "metadata": {},
   "outputs": [],
   "source": [
    "class DAT_IF(Trader):\n",
    "\tdef __init__(self, market, aggressiveness, information_level, self_confidence, initial_assets=None, cash=0):\n",
    "\t\tTrader.__init__(self, market, initial_assets, cash)\n",
    "\t\tself.alpha = aggressiveness\n",
    "\t\tself.iota = information_level\n",
    "\t\tself.kappa = self_confidence\n",
    "\tdef __str__(self):\n",
    "\t\treturn \"DAT_IF %i\" % self.trader_id\n",
    "\tdef compute_fv(self, m, D):\n",
    "\t\tif self.iota > 0:\n",
    "\t\t\tiota = len(D)\n",
    "\t\t\tself.fv = int(round(sum([D[j]/((1+r)**j) for j in range(iota-1)]) + D[iota-1]/(r*(1+r)**(iota-2))))\n",
    "\tdef decide_order(self, market, asset):\n",
    "\t\tp = market.prices[asset]\n",
    "\t\tm = self.fv if self.iota > 0 else p\n",
    "\t\t# On va calculer le prix et la direction de l'ordre qu'enverrait l'agent s'il était fondamentaliste\n",
    "\t\tbest_ask = market.orderbooks[asset].asks.root().price if market.orderbooks[asset].asks.size > 0 else None\n",
    "\t\tbest_bid = market.orderbooks[asset].bids.root().price if market.orderbooks[asset].bids.size > 0 else None\n",
    "\t\tif best_ask != None and best_ask <= m:\n",
    "\t\t\tfund_dir = 'BID' ; fund_price = best_ask\n",
    "\t\telif best_bid != None and best_bid >= m:\n",
    "\t\t\tfund_dir = 'ASK' ; fund_price = best_bid\n",
    "\t\telse:\n",
    "\t\t\tbest_ask = best_ask if best_ask != None else p\n",
    "\t\t\tbest_bid = best_bid if best_bid != None else p\n",
    "\t\t\tif m-best_bid > best_ask-m:\n",
    "\t\t\t\tfund_dir = 'BID'\n",
    "\t\t\t\tfund_price = int(round(best_bid + self.alpha*(m-best_bid)))\n",
    "\t\t\telif m-best_bid < best_ask-m:\n",
    "\t\t\t\tfund_dir = 'ASK'\n",
    "\t\t\t\tfund_price = int(round(best_ask + self.alpha*(m-best_ask)))\n",
    "\t\t\telse:\n",
    "\t\t\t\tfund_dir = None ; fund_price = None\n",
    "\t\treturn None if fund_dir == None else LimitOrder(asset, self, fund_dir, fund_price, self.kappa)"
   ]
  },
  {
   "cell_type": "markdown",
   "metadata": {},
   "source": [
    "Un `DAT-IF` a les mêmes attributs qu'un `DAT-F`, à l'exception qu'on ne lui donne pas une estimation de la valeur fondamentale (qu'il calcule) mais un niveau d'information."
   ]
  },
  {
   "cell_type": "code",
   "execution_count": 6,
   "metadata": {},
   "outputs": [
    {
     "name": "stdout",
     "output_type": "stream",
     "text": [
      "\tDay 0\n",
      "\tDay 10\n",
      "\tDay 20\n",
      "\tDay 30\n",
      "\tDay 40\n"
     ]
    }
   ],
   "source": [
    "# Création du marché\n",
    "\n",
    "opening_price = 21000\n",
    "nb_days = 50\n",
    "nb_ticks = 10\n",
    "r = .05 #risk-adjusted interest rate\n",
    "file = open('trace.dat', 'w')\n",
    "m = Market(['VAASM'], out=file, trace=['price'], init_price=opening_price, fix='L')\n",
    "\n",
    "# Création des agents\n",
    "\n",
    "for a in linspace(0, 1, 6):\n",
    "    for i in range(0, 10):\n",
    "        for k in [1, 3, 5, 7, 9]:\n",
    "            t = DAT_IF(m, a, i, k, [1000000//opening_price], 1000000)\n",
    "            t.init_wealth = t.get_wealth(m)\n",
    "            m.add_trader(t)\n",
    "\n",
    "# Calcul des dividendes futurs\n",
    "\n",
    "d = 1000 ; D = [d]\n",
    "for i in range(nb_days-1):\n",
    "    d = round(normal(d, 10), 2)\n",
    "    D.append(d)\n",
    "\n",
    "\n",
    "# On fait tourner le marché jour par jour...\n",
    "for d in range(nb_days):\n",
    "    m.write('Day;\\n')\n",
    "    if d%10 == 0:    \n",
    "        print('\\tDay %i'%d)\n",
    "    # On màj l'info dont disposent les traders\n",
    "    for i, ag in enumerate(m.traders):\n",
    "        D_ag = []\n",
    "        for j in range(min(ag.iota, nb_days-d)):\n",
    "            D_ag.append(round(D[d+j]*uniform(1-sqrt((j+1))*(10-ag.iota)/300, 1+sqrt((j+1))*(10-ag.iota)/300), 2))\n",
    "        ag.compute_fv(m, D_ag)\n",
    "    # On simule les ticks qui constituent le jour actuel\n",
    "    for t in range(nb_ticks):\n",
    "        m.run_once(shuffle=True)\n",
    "    # On verse les dividendes\n",
    "    for ag in m.traders:\n",
    "        ag.add_cash(int(D[d]*ag.assets['VAASM']))\n",
    "\n",
    "file.close()"
   ]
  },
  {
   "cell_type": "code",
   "execution_count": 10,
   "metadata": {},
   "outputs": [
    {
     "data": {
      "image/png": "[encoded data removed]",
      "text/plain": [
       "<Figure size 432x288 with 1 Axes>"
      ]
     },
     "metadata": {
      "needs_background": "light"
     },
     "output_type": "display_data"
    }
   ],
   "source": [
    "Prices = dp.extract_prices('trace.dat')\n",
    "Prices = []\n",
    "j = 0\n",
    "with open('trace.dat', 'r') as file:\n",
    "\tfor line in file:\n",
    "\t\tl = line.split(';')\n",
    "\t\tif l[0] == \"Price\":\n",
    "\t\t\tPrices.append(int(l[4]))\n",
    "\t\t\tj += 1\n",
    "\t\telif l[0] == \"Day\":\n",
    "\t\t\tplt.axvline(j, color='k', ls='--') # On trace une ligne verticale à chaque début de jour\n",
    "plt.plot(dp.smooth(Prices, 100), '-k')\n",
    "plt.ylabel(\"Smoothed prices\")\n",
    "plt.show()"
   ]
  },
  {
   "cell_type": "code",
   "execution_count": 11,
   "metadata": {},
   "outputs": [
    {
     "data": {
      "image/png": "[encoded data removed]",
      "text/plain": [
       "<Figure size 432x288 with 1 Axes>"
      ]
     },
     "metadata": {
      "needs_background": "light"
     },
     "output_type": "display_data"
    }
   ],
   "source": [
    "# On affiche la densité des rentabilités, lues dans le fichier trace.dat,\n",
    "# pour le titre 'VAASM', et on affiche 100 points.\n",
    "dp.draw_returns_hist('trace.dat', 'VAASM', 100)"
   ]
  },
  {
   "cell_type": "markdown",
   "metadata": {},
   "source": [
    "## DAT Informed Fundamentalist & Chartist (DAT-IFC)"
   ]
  },
  {
   "cell_type": "code",
   "execution_count": 8,
   "metadata": {},
   "outputs": [],
   "source": [
    "# On définit la fonction psi dont on sert dans la méthode decide\n",
    "def psi(d):\n",
    "\treturn 0 if d == None else (1 if d == 'ASK' else -1)\n",
    "q0 = 10\n",
    "\n",
    "class DAT_IFC(Trader):\n",
    "\tdef __init__(self, market, aggressiveness, information_level, trend_flip, chartist_behavior, initial_assets=None, cash=0):\n",
    "\t\tTrader.__init__(self, market, initial_assets, cash)\n",
    "\t\tself.alpha = aggressiveness\n",
    "\t\tself.iota = information_level\n",
    "\t\tself.tau = chartist_behavior\n",
    "\t\tself.phi = trend_flip # 1 = trend will flip ; 0 = trend will keep going\n",
    "\tdef __str__(self):\n",
    "\t\treturn \"DAT-IFC %i\" % self.trader_id\n",
    "\tdef compute_fv(self, m, D):\n",
    "\t\tif self.iota > 0:\n",
    "\t\t\tiota = len(D)\n",
    "\t\t\tself.fv = int(round(sum([D[j]/((1+r)**j) for j in range(iota-1)]) + D[iota-1]/(r*(1+r)**(iota-2))))\n",
    "\tdef decide_order(self, market, asset):\n",
    "\t\tM_inf = 10\n",
    "\t\tM_sup = 30\n",
    "\t\tp = market.prices[asset]\n",
    "\t\tm = self.fv if self.iota > 0 else p\n",
    "\t\t# On va calculer le prix et la direction de l'ordre qu'enverrait l'agent s'il était fondamentaliste\n",
    "\t\tbest_ask = market.orderbooks[asset].asks.root().price if market.orderbooks[asset].asks.size > 0 else None\n",
    "\t\tbest_bid = market.orderbooks[asset].bids.root().price if market.orderbooks[asset].bids.size > 0 else None\n",
    "\t\tif best_ask != None and best_ask <= m:\n",
    "\t\t\tfund_dir = 'BID' ; fund_price = best_ask\n",
    "\t\telif best_bid != None and best_bid >= m:\n",
    "\t\t\tfund_dir = 'ASK' ; fund_price = best_bid\n",
    "\t\telse:\n",
    "\t\t\tbest_ask = best_ask if best_ask != None else p\n",
    "\t\t\tbest_bid = best_bid if best_bid != None else p\n",
    "\t\t\tif m-best_bid > best_ask-m:\n",
    "\t\t\t\tfund_dir = 'BID'\n",
    "\t\t\t\tfund_price = int(round(best_bid + self.alpha*(m-best_bid)))\n",
    "\t\t\telif m-best_bid < best_ask-m:\n",
    "\t\t\t\tfund_dir = 'ASK'\n",
    "\t\t\t\tfund_price = int(round(best_ask + self.alpha*(m-best_ask)))\n",
    "\t\t\telse:\n",
    "\t\t\t\tfund_dir = None ; fund_price = None\n",
    "\t\t# On va calculer le prix et la direction de l'ordre qu'enverrait l'agent s'il était chartist\n",
    "\t\tif len(market.prices_hist[asset]) >= M_sup:\n",
    "\t\t\tp_old = mean(market.prices_hist[asset][-M_sup:])\n",
    "\t\t\tp_new = mean(market.prices_hist[asset][-M_inf:])\n",
    "\t\t\tif p_new != p_old:\n",
    "\t\t\t\tif self.phi == 0: # Si l'agent pense que la tendance va persister\n",
    "\t\t\t\t\tchart_dir = 'BID' if p_new > p_old else 'ASK'\n",
    "\t\t\t\t\tchart_price = p_new + self.alpha*(p_new - p_old)\n",
    "\t\t\t\telse: # Si l'agent pense que la tendance va s'inverser\n",
    "\t\t\t\t\tchart_dir = 'ASK' if p_new > p_old else 'BID'\n",
    "\t\t\t\t\tchart_price = p_new + self.alpha*(p_old - p_new)\n",
    "\t\t\telse:\n",
    "\t\t\t\tchart_dir = None ; chart_price = None\n",
    "\t\telse:\n",
    "\t\t\tchart_dir = None ; chart_price = None\n",
    "\t\t# Maintenant, on va faire la moyenne de ces ordres...\n",
    "\t\tpsi_d = (1-self.tau)*psi(fund_dir) + self.tau*psi(chart_dir)\n",
    "\t\td = None if psi_d == 0 else ('ASK' if psi_d > 0 else 'BID')\n",
    "\t\tif d != None:\n",
    "\t\t\t# Si les ordres donnent des directions contraires, on va prendre le prix de celui qui a la direction égale à la direction finale\n",
    "\t\t\tif d == chart_dir and d != fund_dir:\n",
    "\t\t\t\tp = chart_price\n",
    "\t\t\telif d == fund_dir and d != chart_dir:\n",
    "\t\t\t\tp = fund_price\n",
    "\t\t\t# Si les deux ordres ont donné la même direction, on fait une moyenne des deux prix\n",
    "\t\t\telif d == fund_dir and d == chart_dir:\n",
    "\t\t\t\tp = int(round((1-self.tau)*fund_price + self.tau*chart_price))\n",
    "\t\t\telse:\n",
    "\t\t\t\tprint(\"WTF\")\n",
    "\t\t\t# Puis on calcule la quantité\n",
    "\t\t\tq = max(1, int(round(abs(psi_d)*q0)))\n",
    "\t\treturn None if d == None else LimitOrder(asset, self, d, p, q)"
   ]
  },
  {
   "cell_type": "markdown",
   "metadata": {},
   "source": [
    "Un `DAT-IFC` a pour attributs (supplémentaires) une aggressivité $\\alpha \\in [0,~1]$, un niveau d'information $\\iota \\in [\\![0,~9]\\!]$, une interprétation de la tendance des prix $\\varphi\\in\\{0,~1\\}$ et une proportion de chartist behavior $\\tau \\in [0,~1]$.\n",
    "\n",
    "**Attention, la simulation suivante est assez longue (de l'ordre de la minute), mais c'est nécessaire pour avoir une courbe des wealth qui ait un sens : il faut que le nombre de jours soit assez grand (au moins 50). En outre, il faut que `M_sup` (définit en première ligne de la méthode `decide`) soit égal au nombre de jours.**"
   ]
  },
  {
   "cell_type": "code",
   "execution_count": 9,
   "metadata": {},
   "outputs": [
    {
     "name": "stdout",
     "output_type": "stream",
     "text": [
      "\tDay 0\n",
      "\tDay 10\n",
      "\tDay 20\n",
      "\tDay 30\n",
      "\tDay 40\n"
     ]
    }
   ],
   "source": [
    "# On créé le marché comme avant\n",
    "\n",
    "opening_price = 21000\n",
    "nb_days = 50\n",
    "nb_ticks = 10\n",
    "r = .05 #risk-adjusted interest rate\n",
    "file_ret = open('trace_returns.dat', 'w')\n",
    "file = open('trace.dat', 'w')\n",
    "m = Market(['VAASM'], out=file, trace=['price'], init_price=opening_price, fix='L')\n",
    "\n",
    "# On créé nos agents\n",
    "\n",
    "for tf in range(0, 2):\n",
    "    for a in linspace(0, 1, 6):\n",
    "        for i in range(0, 10):\n",
    "            for cb in linspace(0, 1, 11):\n",
    "                t = DAT_IFC(m, a, i, tf, cb, [1000000//opening_price], 1000000)\n",
    "                t.init_wealth = t.get_wealth(m)\n",
    "                m.add_trader(t)\n",
    "\n",
    "# On calcule les dividendes futurs\n",
    "\n",
    "d = 1000 ; D = [d]\n",
    "for i in range(nb_days-1):\n",
    "    d = round(normal(d, 10), 2)\n",
    "    D.append(d)\n",
    "\n",
    "\n",
    "# On fait tourner le marché...\n",
    "\n",
    "for d in range(nb_days):\n",
    "    m.write('Day;\\n')\n",
    "    if d%10 == 0:\n",
    "        print('\\tDay %i'%d)\n",
    "    # On màj l'info dont disposent les traders\n",
    "    for i, ag in enumerate(m.traders):\n",
    "        D_ag = []\n",
    "        for j in range(min(ag.iota, nb_days-d)):\n",
    "            D_ag.append(round(D[d+j]*uniform(1-sqrt((j+1))*(10-ag.iota)/300, 1+sqrt((j+1))*(10-ag.iota)/300), 2))\n",
    "        ag.compute_fv(m, D_ag)\n",
    "    for t in range(nb_ticks):\n",
    "        m.run_once()\n",
    "    # On verse les dividendes\n",
    "    for ag in m.traders:\n",
    "        ag.add_cash(int(D[d]*ag.assets['VAASM']))\n",
    "\n",
    "# Une fois la simulation finie, on calcule les rentabilités des agents\n",
    "# (taux d'accroissement entre le wealth initial et le wealth final)\n",
    "for ag in m.traders:\n",
    "    file_ret.write(\"%i,%.1f,%i,%.2f\\n\" % (ag.iota, ag.tau, ag.phi, (ag.get_wealth(m)-ag.init_wealth)/ag.init_wealth))\n",
    "\n",
    "file.close()\n",
    "file_ret.close()"
   ]
  },
  {
   "cell_type": "code",
   "execution_count": null,
   "metadata": {},
   "outputs": [],
   "source": [
    "Iota = [] ; Tau = [] ; Wealth = []\n",
    "with open('trace_returns.dat', 'r') as file:\n",
    "\tfor line in file:\n",
    "\t\tl = line.split(',')\n",
    "\t\tIota.append(float(l[0]))\n",
    "\t\tTau.append(float(l[1]))\n",
    "\t\tWealth.append(float(l[3]))\n",
    "\n",
    "Iota_ar = [round(x, 1) for x in range(0, 10)]\n",
    "Tau_ar = [round(x, 1) for x in np.linspace(0, 1, 11)]\n",
    "Wealth_mean = dict()\n",
    "Wealth_std = dict()\n",
    "Wealth_min = dict()\n",
    "Wealth_max = dict()\n",
    "\n",
    "\n",
    "for i in Iota_ar:\n",
    "\tfor t in Tau_ar:\n",
    "\t\tWealth_mean[(i, t)] = []\n",
    "for j in range(len(Iota)):\n",
    "\tWealth_mean[(Iota[j], Tau[j])].append(Wealth[j])\n",
    "for i in Iota_ar:\n",
    "\tfor t in Tau_ar:\n",
    "\t\tWealth_std[(i,t)] = None if Wealth_mean[(i,t)] == [] else np.std(Wealth_mean[(i,t)])\n",
    "\t\tWealth_min[(i,t)] = None if Wealth_mean[(i,t)] == [] else min(Wealth_mean[(i,t)])\n",
    "\t\tWealth_max[(i,t)] = None if Wealth_mean[(i,t)] == [] else max(Wealth_mean[(i,t)])\n",
    "\t\tWealth_mean[(i,t)] = None if Wealth_mean[(i,t)] == [] else np.mean(Wealth_mean[(i,t)])\n",
    "\n",
    "X = [Iota_ar[i] for i in range(len(Iota_ar)) for t in range(len(Tau_ar))]\n",
    "Y = [Tau_ar[t] for i in range(len(Iota_ar)) for t in range(len(Tau_ar))]\n",
    "Z = [Wealth_mean[Iota_ar[i], Tau_ar[t]] for i in range(len(Iota_ar)) for t in range(len(Tau_ar))]\n",
    "\n",
    "fig = plt.figure()\n",
    "ax = fig.add_subplot(111, projection='3d')\n",
    "ax.scatter(X, Y, Z, c=-np.array(Z), marker='o', depthshade=False)\n",
    "ax.set_xlabel('Information level ($\\\\iota$)')\n",
    "ax.set_ylabel('Chartist behavior ($\\\\tau$)')\n",
    "ax.set_zlabel('Returns ($r$)')\n",
    "plt.show()"
   ]
  },
  {
   "cell_type": "code",
   "execution_count": null,
   "metadata": {},
   "outputs": [],
   "source": []
  }
 ],
 "metadata": {
  "kernelspec": {
   "display_name": "Python 3",
   "language": "python",
   "name": "python3"
  },
  "language_info": {
   "codemirror_mode": {
    "name": "ipython",
    "version": 3
   },
   "file_extension": ".py",
   "mimetype": "text/x-python",
   "name": "python",
   "nbconvert_exporter": "python",
   "pygments_lexer": "ipython3",
   "version": "3.7.0"
  }
 },
 "nbformat": 4,
 "nbformat_minor": 2
}
